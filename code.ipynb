{
 "cells": [
  {
   "cell_type": "markdown",
   "id": "a968c820",
   "metadata": {},
   "source": [
    "#### Learning Objectives\n",
    "\n",
    "The goals of this notebook are to:\n",
    "* Explore the FashionMNIST dataset\n",
    "* Build a U-Net architecture\n",
    "  * Construct a Down Block\n",
    "  * Construct an Up Block\n",
    "* Train a model to remove noise from an image\n",
    "* Attempt to generate articles of clothing"
   ]
  },
  {
   "cell_type": "markdown",
   "id": "d0908f7e",
   "metadata": {},
   "source": [
    "U-Nets are a type of convolutional neural network that was originally designed for medical imaging. For instance, we could feed the network an image of a heart and it could return a different picture highlighting potentially cancerous areas.\n",
    "\n",
    "what if we add noise to our images, and then use a U-Net to separate the images from the noise. Could we then feed the model noise and have it create a recognizable image? Let's give it a try!"
   ]
  },
  {
   "cell_type": "code",
   "execution_count": null,
   "id": "380d0d19",
   "metadata": {
    "vscode": {
     "languageId": "plaintext"
    }
   },
   "outputs": [],
   "source": [
    "import torch\n",
    "import torch.nn as nn\n",
    "import torch.nn.functional as F\n",
    "from torch.utils.data import Dataset, DataLoader\n",
    "import torchvision.transforms as transforms"
   ]
  },
  {
   "cell_type": "markdown",
   "id": "e91b8fe4",
   "metadata": {},
   "source": [
    "# U-net architecture"
   ]
  },
  {
   "cell_type": "markdown",
   "id": "f3eb01fd",
   "metadata": {},
   "source": [
    "#### First, let's define the different components of our U-Net architecture. Primarily, the `DownBlock` and the `UpBlock`.\n",
    "\n",
    "### The Down Block\n",
    "\n",
    "The `DownBlock` is a typical convolutional neural network. If you are new to PyTorch and are coming from a Keras/TensorFlow background, the below is more similar to the [functional API](https://keras.io/guides/functional_api/) instead of a [sequential model](https://keras.io/guides/sequential_model/). We will later be using [residual](https://stats.stackexchange.com/questions/321054/what-are-residual-connections-in-rnns) and skip connections. A sequential model does not have the flexibility to support these types of connections, but a functional model does.\n",
    "\n",
    "In our `__init__` function below, we will assign our various neural network operations to class variables:\n",
    "* [Conv2d](https://pytorch.org/docs/stable/generated/torch.nn.Conv2d.html) applies convolution to the input. The `in_ch` is the number of channels we are convolving over and `out_ch` is the number of output channels, which is the same as the number of kernel filters used for convolution. Typically in a U-Net architecture, the number of channels increase the further down we move in the model.\n",
    "* [ReLU](https://pytorch.org/docs/stable/generated/torch.nn.ReLU.html) is the activation function for the convolution kernels.\n",
    "* [BatchNorm2d](https://pytorch.org/docs/stable/generated/torch.nn.BatchNorm2d.html) applies [batch normalization](https://towardsdatascience.com/batch-normalization-in-3-levels-of-understanding-14c2da90a338) to a layer of neurons. ReLu has no learnable parameters, so we can apply the same function to multiple layers and it will have the same effect as using multiple ReLu functions. Batch Normalization does have learnable parameters, and reusing this function can have unexpected effects.\n",
    "* [MaxPool2D](https://pytorch.org/docs/stable/generated/torch.nn.MaxPool2d.html) is what we'll use to reduce the size of our feature map as it moves down the network. It's possible to achieve this effect through convolution, but max pooling is commonly used with U-Nets.\n",
    "\n",
    "In the `forward` method, we describe how are various functions should be applied to an input. So far, the operations are sequential in this order:\n",
    "* `Conv2d`\n",
    "* `BatchNorm2d`\n",
    "* `ReLU`\n",
    "* `Conv2d`\n",
    "* `BatchNorm2d`\n",
    "* `ReLU`\n",
    "* `MaxPool2d`"
   ]
  }
 ],
 "metadata": {
  "language_info": {
   "name": "python"
  }
 },
 "nbformat": 4,
 "nbformat_minor": 5
}
